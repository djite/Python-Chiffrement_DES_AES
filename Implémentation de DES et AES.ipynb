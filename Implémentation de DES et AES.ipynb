{
 "cells": [
  {
   "cell_type": "markdown",
   "metadata": {},
   "source": [
    "# Mamadou Mourtalla NDjitte \n",
    "L3 TDSI , Projet 2\n",
    "mourtalladjite@outlook.fr"
   ]
  },
  {
   "cell_type": "markdown",
   "metadata": {},
   "source": [
    "# Partie 2 : Implémentation de DES et AES"
   ]
  },
  {
   "cell_type": "markdown",
   "metadata": {},
   "source": [
    "## Utile:"
   ]
  },
  {
   "cell_type": "code",
   "execution_count": 1,
   "metadata": {},
   "outputs": [],
   "source": [
    "import random\n",
    "\n",
    "def decalage_gauche(m,i):\n",
    "    n=''\n",
    "    if i==1:\n",
    "        while i < len(m):\n",
    "            n +=m[i]\n",
    "            i+=1\n",
    "        n += m[0]\n",
    "    else :\n",
    "        while i < len(m):\n",
    "            n += m[i]\n",
    "            i += 1\n",
    "        n +=m[0]\n",
    "        n +=m[1]\n",
    "    return n\n",
    "\n",
    "dico = {'A':0,'B':1,'C':2,'D':3,'E':4,'F':5,'G':6,'H':7,'I':8,\n",
    "        'J':9,'K':10,'L':11,'M':12,'N':13,'O':14,'P':15,'Q':16,'R':17\n",
    "       ,'S':18,'T':19,'U':20,'V':21,'W':22,'X':23,'Y':24,'Z':25}\n",
    "\n",
    "def format_message(message):\n",
    "    message = message.upper()\n",
    "    message_g=''\n",
    "    e=[\"Ê\",\"Ë\",\"É\",\"È\"] #è,é,..org(é)\n",
    "    for i in message:\n",
    "        if i in e :\n",
    "            i=i.replace(i,'E')\n",
    "        if ( i in dico.keys() ):\n",
    "            message_g += i\n",
    "    return message_g\n",
    "\n",
    "# Convertir du texte ASCII en binaire\n",
    "def ascii_to_bin(M):\n",
    "    M = format_message(M)\n",
    "    b = ''.join(format(ord(x), 'b') for x in M) #org recupere le num ASCII ex 'A'=65 on le trensforme en binaire avec format \n",
    "    return str(b)\n",
    "    \n",
    "    "
   ]
  },
  {
   "cell_type": "code",
   "execution_count": 2,
   "metadata": {},
   "outputs": [
    {
     "data": {
      "text/plain": [
       "'100100010001011001100100110010011111010111100111110100101000100'"
      ]
     },
     "execution_count": 2,
     "metadata": {},
     "output_type": "execute_result"
    }
   ],
   "source": [
    "ascii_to_bin(\"Hello word\")"
   ]
  },
  {
   "cell_type": "markdown",
   "metadata": {},
   "source": [
    "# DES"
   ]
  },
  {
   "cell_type": "markdown",
   "metadata": {},
   "source": [
    "Le Data Encryption Standard (DES, prononcer /dɛs/) est un algorithme de chiffrement symétrique (chiffrement par bloc) utilisant des clés de 56 bits.\n",
    "\n",
    "D'une manière générale, on peut dire que DES fonctionne en trois étapes :\n",
    "\n",
    "- permutation initiale et fixe d'un bloc (sans aucune incidence sur le niveau de sécurité) ;\n",
    "- le résultat est soumis à 16 itérations d'une transformation, ces itérations dépendent à chaque tour d'une autre clé partielle de 48 bits. Cette clé de tour intermédiaire est calculée à partir de la clé initiale de l'utilisateur (grâce à un réseau de tables de substitution et d'opérateurs XOR). Lors de chaque tour, le bloc de 64 bits est découpé en deux blocs de 32 bits, et ces blocs sont échangés l'un avec l'autre selon un schéma de Feistel. Le bloc de 32 bits ayant le poids le plus fort (celui qui s'étend du bit 32 au bit 64) subira une transformation ;\n",
    "- le résultat du dernier tour est transformé par la fonction inverse de la permutation initiale.\n",
    "\n",
    "**Mécanisme :**\n",
    "\n",
    "Le message, au prélable converti en binaire, est découpé en blocs Bi de 64 bits. La clé K, elle, comporte 56 bits. Pour chaque bloc Bi, on applique l'algorithme* suivant :\n",
    "\n",
    "- On effectue une permutation initiale des bits du bloc Bi. On appelle alors G0 et D0 les parties de 32 bits droite et gauche du bloc obtenu.\n",
    "\n",
    "- On répète 16 fois la procédure suivante :\n",
    "     Gi = Di-1\n",
    "     Di = Gi-1 XOR f(Di-1 , Ki)    (XOR est représenté par + sur le schéma ci-dessous)\n",
    "     où Ki est un bloc de 48 bits de la clé K, et f une fonction composée successivement d'une expansion de bits, d'un XOR, d'une réduction de bits, et d'une permutation de bits.\n",
    "- On recompose un bloc B'16 en \"recollant\" D16 et G16 dans cet ordre.\n",
    "- On effectue la permutation inverse de la permutation initiale 1).\n",
    "\n",
    "Aujourd'hui, le D.E.S. est fortement menacé par les puissances de calcul des ordinateurs. Il n'est en effet pas impossible de balayer la plupart des clés pour casser le code. \n",
    "\n",
    "https://www.commentcamarche.net/contents/204-introduction-au-chiffrement-avec-des\n",
    "\n",
    "http://page.math.tu-berlin.de/~kant/teaching/hess/krypto-ws2006/des.htm"
   ]
  },
  {
   "cell_type": "markdown",
   "metadata": {},
   "source": [
    "### 1_Genkey_DES"
   ]
  },
  {
   "cell_type": "markdown",
   "metadata": {},
   "source": [
    " La clé initiale K est sur 64 bits.\n",
    "- La permutation PC-1 enlève les bits de parité et opère sur les 56 bits restants.\n",
    "- On divise le résultat en deux moitiés C0et D0 de 28 bits.\n",
    "  \n",
    "- On génère une suite Ci, Di en opérant des décalages à gauche successifs :\n",
    " \n",
    "Ci = LSi (Ci-1)\n",
    "Di = LSi (Di-1)\n",
    "  \n",
    "- Pour obtenir la clé Ki on regroupe Ci et Di et l'on opère sur les 56 bits une permutation PC-2\n",
    " \n",
    "Ki = PC-2(Ci Di)\n",
    "\n",
    "La clé 64 bits est permutée selon le tableau suivant, PC-1. Depuis la première entrée dans le tableau est de 57 , cela signifie que le 57ème bit de la clé d’origine K devient le premier bit de la clé permutée K . Le 49ème bit de la touche originale devient le deuxième bit de la clé permutée. Le 4ème bit de la clé d’origine est le dernier morceau de la clé permutée. Notez que 56 bits de la clé d’origine apparaissent dans la clé permutée.\n",
    "\n",
    "PC-1"
   ]
  },
  {
   "cell_type": "code",
   "execution_count": 3,
   "metadata": {},
   "outputs": [],
   "source": [
    "def genkey_system_des():\n",
    "    b = bin(random.getrandbits(64)) #Renvoie un entier de 64 bits\n",
    "    k = b[2:].zfill(64) #enleve le '0b' et ajoute un 0 au debut pour avoir 64 bit (0b101 va devenir 0101)\n",
    "    k = str(k)\n",
    "    k = '0001001100110100010101110111100110011011101111001101111111110001' #test\n",
    "    #print(f\"Clef de 64 bits: \\n k = {k}\")\n",
    "    k_pc1 = ''\n",
    "    pc1=[ 57, 49, 41, 33, 25, 17 ,9,\n",
    "           1, 58, 50, 42, 34, 26, 18,\n",
    "          10, 2, 59, 51, 43, 35, 27,\n",
    "          19, 11, 3, 60, 52, 44, 36,\n",
    "          63, 55, 47, 39, 31, 23, 15,\n",
    "           7, 62, 54, 46, 38, 30, 22,\n",
    "          14, 6, 61, 53, 45, 37, 29,\n",
    "          21, 13, 5, 28, 20, 12, 4\n",
    "        ]\n",
    "    #permutation d k suivant pc-1\n",
    "    for i in pc1:\n",
    "        k_pc1 += k[i-1]\n",
    "    #print(f\"Permutation de k suivant pc-1 : \\n k_pc-1 = {k_pc1}\")\n",
    "    return k_pc1"
   ]
  },
  {
   "cell_type": "code",
   "execution_count": 9,
   "metadata": {},
   "outputs": [
    {
     "data": {
      "text/plain": [
       "'11110000110011001010101011110101010101100110011110001111'"
      ]
     },
     "execution_count": 9,
     "metadata": {},
     "output_type": "execute_result"
    }
   ],
   "source": [
    "genkey_system_des()"
   ]
  },
  {
   "cell_type": "code",
   "execution_count": null,
   "metadata": {},
   "outputs": [],
   "source": []
  },
  {
   "cell_type": "code",
   "execution_count": 18,
   "metadata": {},
   "outputs": [],
   "source": [
    "def genkey_subkeys_system_des( k_pc1=genkey_system_des()):\n",
    "    #determination de C0 et D0\n",
    "    co =k_pc1[:28]\n",
    "    do =k_pc1[28:]\n",
    "    #print(f\"Co=  {co} et Do = {do} \")\n",
    "    print('determination de Cn et Dn avec 1<=n<=16')\n",
    "    left_shift = [1,1,2,2,2,2,2,2,1,2,2,2,2,2,2,1]\n",
    "    dict_keyc = {0:co}\n",
    "    dict_keyd = {0:do}\n",
    "    c , d ,j = co ,do , 1\n",
    "    for i in left_shift:\n",
    "        dict_keyc[j] = decalage_gauche(c,i)\n",
    "        dict_keyd[j] = decalage_gauche(d,i)\n",
    "        c , d = dict_keyc[j], dict_keyd[j]\n",
    "        j += 1 \n",
    "    for i in range(17):\n",
    "        #print(f\"c{i}  : {dict_keyc[i]}  , d{i}  : {dict_keyd[i]}\")\n",
    "        pass\n",
    "    pc2=[14 ,17 ,11 ,24 ,1 ,5\n",
    "         ,3 ,28 ,15 ,6 ,21 ,10\n",
    "         ,23 ,19 ,12 ,4 ,26 ,8\n",
    "         ,16 ,7 ,27 ,20 ,13, 2\n",
    "         ,41 ,52 ,31 ,37 ,47 ,55\n",
    "         ,30 ,40 ,51 ,45 ,33 ,48\n",
    "         ,44 ,49 ,39 ,56 ,34 ,53\n",
    "         ,46 ,42 ,50 ,36 ,29 ,32\n",
    "        ]\n",
    "    s,sp='',''\n",
    "    keys = []\n",
    "    #print(f\"Permutation de chacune des paires concaténées Cn Dn  suivant pc-2 \")\n",
    "    for i in range(1,17):\n",
    "        s = dict_keyc[i] + dict_keyd[i]\n",
    "        for j in pc2:\n",
    "            sp += s[j-1]\n",
    "        keys.append(sp)\n",
    "        #print(f\"k{i} = {sp}\")\n",
    "        sp=''\n",
    "    return keys "
   ]
  },
  {
   "cell_type": "code",
   "execution_count": 19,
   "metadata": {},
   "outputs": [
    {
     "name": "stdout",
     "output_type": "stream",
     "text": [
      "determination de Cn et Dn avec 1<=n<=16\n"
     ]
    },
    {
     "data": {
      "text/plain": [
       "['000110110000001011101111111111000111000001110010',\n",
       " '011110011010111011011001110110111100100111100101',\n",
       " '010101011111110010001010010000101100111110011001',\n",
       " '011100101010110111010110110110110011010100011101',\n",
       " '011111001110110000000111111010110101001110101000',\n",
       " '011000111010010100111110010100000111101100101111',\n",
       " '111011001000010010110111111101100001100010111100',\n",
       " '111101111000101000111010110000010011101111111011',\n",
       " '111000001101101111101011111011011110011110000001',\n",
       " '101100011111001101000111101110100100011001001111',\n",
       " '001000010101111111010011110111101101001110000110',\n",
       " '011101010111000111110101100101000110011111101001',\n",
       " '100101111100010111010001111110101011101001000001',\n",
       " '010111110100001110110111111100101110011100111010',\n",
       " '101111111001000110001101001111010011111100001010',\n",
       " '110010110011110110001011000011100001011111110101']"
      ]
     },
     "execution_count": 19,
     "metadata": {},
     "output_type": "execute_result"
    }
   ],
   "source": [
    " genkey_subkeys_system_des()"
   ]
  },
  {
   "cell_type": "markdown",
   "metadata": {},
   "source": [
    "### 2_Cipher_DES"
   ]
  },
  {
   "cell_type": "markdown",
   "metadata": {},
   "source": [
    "ci, le 58e bit de M est \"1\", qui devient le premier bit d' IP . Le 50e bit de M est \"1\", qui devient le deuxième bit d' IP . Le 7e bit de M est \"0\", qui devient le dernier bit d' IP .\n",
    "\n",
    "Divisez ensuite le bloc permuté IP en une moitié gauche L 0 de 32 bits et une moitié droite R 0 de 32 bits.\n",
    "\n",
    "On procède maintenant à 16 itérations, pour 1 <= n <= 16, en utilisant une fonction f qui opère sur deux blocs - un bloc de données de 32 bits et une clé K n de 48 bits - pour produire un bloc de 32 bits . Soit + dénote l'addition XOR, (addition bit à bit modulo 2) . Ensuite, pour n allant de 1 à 16, nous calculons\n",
    "\n",
    "L n = R n-1\n",
    "\n",
    "R n = L n-1 + f ( R n-1 , K n )\n",
    "\n",
    "Il en résulte un bloc final, pour n = 16, de L 16 R 16 . Autrement dit, à chaque itération, nous prenons les 32 bits de droite du résultat précédent et en faisons les 32 bits de gauche de l'étape en cours. Pour les 32 bits de droite de l'étape en cours, on XOR les 32 bits de gauche de l'étape précédente avec le calcul f .\n"
   ]
  },
  {
   "cell_type": "code",
   "execution_count": 76,
   "metadata": {},
   "outputs": [
    {
     "name": "stdout",
     "output_type": "stream",
     "text": [
      "determination de Cn et Dn avec 1<=n<=16\n"
     ]
    }
   ],
   "source": [
    "def cipher_system_des(M , k = genkey_subkeys_system_des()):\n",
    "    m = format_message(M)\n",
    "    mb = ascii_to_bin(m)\n",
    "    \n",
    "    #test\n",
    "    mb = '0000000100100011010001010110011110001001101010111100110111101111' \n",
    "    \n",
    "    ip=[58 ,50 ,42 ,34 ,26 ,18 ,10 ,2\n",
    "        ,60 ,52 ,44 ,36 ,28 ,20 ,12 ,4\n",
    "        ,62 ,54 ,46 ,38 ,30 ,22 ,14 ,6\n",
    "        ,64 ,56 ,48 ,40 ,32 ,24 ,16 ,8\n",
    "        ,57 ,49 ,41 ,33 ,25 ,17 ,9 ,1\n",
    "        ,59 ,51 ,43 ,35 ,27 ,19 ,11 ,3\n",
    "        ,61 ,53 ,45 ,37 ,29 ,21 ,13 ,5\n",
    "        ,63 ,55 ,47 ,39 ,31 ,23 ,15 ,7\n",
    "       ]\n",
    "   \n",
    "    k_ip =''\n",
    "    #permutation de m suivant ip\n",
    "    for i in ip:\n",
    "        k_ip += mb[i-1]\n",
    "    print(f\"Permutation de  {M} suivant ip : \\n k_ip = {k_ip}\") \n",
    "    \n",
    "    #determination de Lo et Ro\n",
    "    lo = k_ip[:32]\n",
    "    ro = k_ip[32:]\n",
    "    print('determination de Ln et Rn avec 1<=n<=16')   \n",
    "    #transforme chaque bloc Rn-1 de 32 bits à 48 bits\n",
    "    def extension(bit32):\n",
    "        bit48=''\n",
    "        tab_selc_bit=[32 ,1 ,2 ,3 ,4 ,5\n",
    "                      ,4 ,5 ,6 ,7 ,8 ,9\n",
    "                      ,8 ,9 ,10 ,11 ,12 ,13\n",
    "                     ,12 ,13 ,14 ,15 ,16 ,17\n",
    "                     ,16 ,17 ,18 ,19 ,20 ,21\n",
    "                     ,20 ,21 ,22 ,23 ,24 ,25\n",
    "                     ,24 ,25 ,26 ,27 ,28 ,29\n",
    "                     ,28 ,29 ,30 ,31 ,32 ,1]\n",
    "        for i in tab_selc_bit:\n",
    "            bit48 += bit32[i-1]\n",
    "        #print(f\"ex {bit48}\")\n",
    "        return bit48\n",
    "    \n",
    "    #calcul f , on XOR la sortie E ( Rn-1 ) avec la clé K n :\n",
    "    def xor(bit48 ,  k):\n",
    "        x = ''\n",
    "        for i in range (48) :\n",
    "            if bit48[i] == k[i]:\n",
    "                x += '0'\n",
    "            else :\n",
    "                x += '1'\n",
    "        #print(f\"xor {x}\")       \n",
    "        return x\n",
    "\n",
    "    def bit_par_6(x):\n",
    "        s,j = '',0\n",
    "        B = []\n",
    "        for i in range(48) :\n",
    "            s += x[i]\n",
    "            j +=1\n",
    "            if j == 6:\n",
    "                B.append(s)\n",
    "                s,j = '',0\n",
    "        #print(f\"bit par 6 {B}\")\n",
    "        return B\n",
    "    \n",
    "    def Sbox(bit48_6b):  \n",
    "        s = [\n",
    "             # s1\n",
    "             [[14,  4, 13,  1,  2, 15, 11,  8,  3, 10,  6, 12,  5,  9,  0,  7],\n",
    "              [ 0, 15,  7,  4, 14,  2, 13,  1, 10,  6, 12, 11,  9,  5,  3,  8],\n",
    "              [ 4,  1, 14,  8, 13,  6,  2, 11, 15, 12,  9,  7,  3, 10,  5,  0],\n",
    "              [15, 12,  8,  2,  4,  9,  1,  7,  5, 11,  3, 14, 10,  0,  6, 13]],\n",
    "             # s2\n",
    "             [[15,  1,  8, 14,  6, 11,  3,  4,  9,  7,  2, 13, 12,  0,  5, 10],\n",
    "              [ 3, 13,  4,  7, 15,  2,  8, 14, 12,  0,  1, 10,  6,  9, 11,  5],\n",
    "              [ 0, 14,  7, 11, 10,  4, 13,  1,  5,  8, 12,  6,  9,  3,  2, 15],\n",
    "              [13,  8, 10,  1,  3, 15,  4,  2, 11,  6,  7, 12,  0,  5, 14,  9]],\n",
    "             # s3\n",
    "             [[10,  0,  9, 14,  6,  3, 15,  5,  1, 13, 12,  7, 11,  4,  2,  8],\n",
    "              [13,  7,  0,  9,  3,  4,  6, 10,  2,  8,  5, 14, 12, 11, 15,  1],\n",
    "              [13,  6,  4,  9,  8, 15,  3,  0, 11,  1,  2, 12,  5, 10, 14,  7],\n",
    "              [ 1, 10, 13,  0,  6,  9,  8,  7,  4, 15, 14,  3, 11,  5,  2, 12]],\n",
    "             # s4\n",
    "             [[ 7, 13, 14,  3,  0,  6,  9, 10,  1,  2,  8,  5, 11, 12,  4, 15],\n",
    "              [13,  8, 11,  5,  6, 15,  0,  3,  4,  7,  2, 12,  1, 10, 14,  9],\n",
    "              [10,  6,  9,  0, 12, 11,  7, 13, 15,  1,  3, 14,  5,  2,  8,  4],\n",
    "              [ 3, 15,  0,  6, 10,  1, 13,  8,  9,  4,  5, 11, 12,  7,  2, 14]],\n",
    "             # s5\n",
    "             [[ 2, 12,  4,  1,  7, 10, 11,  6,  8,  5,  3, 15, 13,  0, 14,  9],\n",
    "              [14, 11,  2, 12,  4,  7, 13,  1,  5,  0, 15, 10,  3,  9,  8,  6],\n",
    "              [ 4,  2,  1, 11, 10, 13,  7,  8, 15,  9, 12,  5,  6,  3,  0, 14],\n",
    "              [11,  8, 12,  7,  1, 14,  2, 13,  6, 15,  0,  9, 10,  4,  5,  3]],\n",
    "             # s6\n",
    "             [[12,  1, 10, 15,  9,  2,  6,  8,  0, 13,  3,  4, 14,  7,  5, 11],\n",
    "              [10, 15,  4,  2,  7, 12,  9,  5,  6,  1, 13, 14,  0, 11,  3,  8],\n",
    "              [ 9, 14, 15,  5,  2,  8, 12,  3,  7,  0,  4, 10,  1, 13, 11,  6],\n",
    "              [ 4,  3,  2, 12,  9,  5, 15, 10, 11, 14,  1,  7,  6,  0,  8, 13]],\n",
    "             # s7\n",
    "             [[ 4, 11,  2, 14, 15,  0,  8, 13,  3, 12,  9,  7,  5, 10,  6,  1],\n",
    "              [13,  0, 11,  7,  4,  9,  1, 10, 14,  3,  5, 12,  2, 15,  8,  6],\n",
    "              [ 1,  4, 11, 13, 12,  3,  7, 14, 10, 15,  6,  8,  0,  5,  9,  2],\n",
    "              [ 6, 11, 13,  8,  1,  4, 10,  7,  9,  5,  0, 15, 14,  2,  3, 12]],\n",
    "             # s8\n",
    "             [[13,  2,  8,  4,  6, 15, 11,  1, 10,  9,  3, 14,  5,  0, 12,  7],\n",
    "              [ 1, 15, 13,  8, 10,  3,  7,  4, 12,  5,  6, 11,  0, 14,  9,  2],\n",
    "              [ 7, 11,  4,  1,  9, 12, 14,  2,  0,  6, 10, 13, 15,  3,  5,  8],\n",
    "              [ 2,  1, 14,  7,  4, 10,  8, 13, 15, 12,  9,  0,  3,  5,  6, 11]]\n",
    "            ]\n",
    "\n",
    "        bit6=''\n",
    "        SB=[]\n",
    "        n=0\n",
    "        for i in range(8):\n",
    "            bit6 = bit48_6b[i]\n",
    "            ligne = int(bit6[0] + bit6[5] ,2) #la ligne est donnes par le premier et le dernier bit des 6bits\n",
    "            colonne = int (bit6[1:5],2)       #la colonne est donnespar  Les 4 bits du milieu des 6bits\n",
    "            n=s[i][ligne][colonne]\n",
    "            #print(f\"n {n}\")\n",
    "            n=bin(n)[2:].zfill(4)\n",
    "\n",
    "            SB.append(n)\n",
    "        SB = ''.join(SB)\n",
    "        #print(f\"Sb {SB}\")\n",
    "        return SB\n",
    "\n",
    "    def permute(sb):\n",
    "        # La dernière étape du calcul de f consiste à effectuer une permutation P de la sortie de la S- box pour obtenir la valeur finale de f \n",
    "        p = [16,  7, 20, 21,\n",
    "             29, 12, 28, 17,\n",
    "              1, 15, 23, 26,\n",
    "              5, 18, 31, 10,\n",
    "              2,  8, 24, 14,\n",
    "             32, 27,  3,  9,\n",
    "             19, 13, 30,  6,\n",
    "             22, 11,  4, 25]\n",
    "        #permutation de sb suivant p\n",
    "        p_sb=''\n",
    "        for i in p :\n",
    "            p_sb += sb[i-1]\n",
    "        #print(f\"permuation de sb {p_sb}\")\n",
    "        return p_sb\n",
    "    \n",
    "    dict_keysl={}\n",
    "    dict_keysl[0] ,dict_keysl[1] = lo ,ro # l1 = Ro\n",
    "    dict_keysr={}\n",
    "    dict_keysr[0] = ro\n",
    "    for i in range(1,17):\n",
    "        sxor=''\n",
    "        e = extension( dict_keysr[i-1])\n",
    "        x = xor( e, k[i-1] )\n",
    "        b6 =  bit_par_6( x )\n",
    "        s = Sbox(b6)\n",
    "        p = permute(s)\n",
    "        f = p\n",
    "        t = dict_keysl[i-1] \n",
    "        for j in range(32):\n",
    "            if f[j]==t[j]:\n",
    "                sxor += '0'\n",
    "            else: \n",
    "                sxor += '1'              \n",
    "        dict_keysl[i]=dict_keysr[i-1]\n",
    "        dict_keysr[i]=sxor\n",
    "       \n",
    "    #Nous inversons ensuite l'ordre des deux blocs dans le bloc 64 bits R 16 L 16 \n",
    "    #et appliquer une permutation finale IP -1 telle que définie par le tableau suivant:\n",
    "    ip_1 =  [40 ,8 ,48 ,16 ,56 ,24 ,64 ,32\n",
    "            ,39 ,7 ,47 ,15 ,55 ,23 ,63 ,31\n",
    "            ,38 ,6 ,46 ,14 ,54 ,22 ,62 ,30\n",
    "            ,37, 5, 45 ,13 ,53 ,21 ,61 ,29\n",
    "            ,36 ,4 ,44 ,12 ,52 ,20 ,60 ,28\n",
    "            ,35 ,3 ,43 ,11 ,51 ,19 ,59 ,27\n",
    "            ,34 ,2 ,42 ,10 ,50 ,18 ,58 ,26\n",
    "            ,33 ,1 ,41 ,9 ,49 ,17 ,57 ,25\n",
    "            ]\n",
    "    RL16 = dict_keysr[16] + dict_keysl[16]\n",
    "    cipher=''\n",
    "    for i in ip_1:\n",
    "        cipher += RL16[i-1] \n",
    "    \n",
    "    return cipher\n",
    "    "
   ]
  },
  {
   "cell_type": "code",
   "execution_count": 77,
   "metadata": {},
   "outputs": [
    {
     "name": "stdout",
     "output_type": "stream",
     "text": [
      "Permutation de  0000000100100011010001010110011110001001101010111100110111101111 suivant ip : \n",
      " k_ip = 1100110000000000110011001111111111110000101010101111000010101010\n",
      "determination de Ln et Rn avec 1<=n<=16\n"
     ]
    },
    {
     "data": {
      "text/plain": [
       "'1000010111101000000100110101010000001111000010101011010000000101'"
      ]
     },
     "execution_count": 77,
     "metadata": {},
     "output_type": "execute_result"
    }
   ],
   "source": [
    "M = '0000000100100011010001010110011110001001101010111100110111101111'\n",
    "cipher_system_des(M )"
   ]
  },
  {
   "cell_type": "code",
   "execution_count": null,
   "metadata": {},
   "outputs": [],
   "source": [
    "\n"
   ]
  },
  {
   "cell_type": "markdown",
   "metadata": {},
   "source": [
    "### 3_Decipher_DES"
   ]
  },
  {
   "cell_type": "code",
   "execution_count": null,
   "metadata": {},
   "outputs": [],
   "source": [
    "def decipher_system_des(cipher,k):\n",
    "    return decipher"
   ]
  },
  {
   "cell_type": "code",
   "execution_count": null,
   "metadata": {},
   "outputs": [],
   "source": []
  },
  {
   "cell_type": "markdown",
   "metadata": {},
   "source": [
    "# AES"
   ]
  },
  {
   "cell_type": "markdown",
   "metadata": {},
   "source": [
    "### 1_Genkey_AES"
   ]
  },
  {
   "cell_type": "code",
   "execution_count": null,
   "metadata": {},
   "outputs": [],
   "source": [
    "def clefs genkey_system_aes(n):\n",
    "    return key "
   ]
  },
  {
   "cell_type": "code",
   "execution_count": null,
   "metadata": {},
   "outputs": [],
   "source": []
  },
  {
   "cell_type": "code",
   "execution_count": null,
   "metadata": {},
   "outputs": [],
   "source": [
    "def genkey_subkeys_system_aes(k):\n",
    "    return "
   ]
  },
  {
   "cell_type": "code",
   "execution_count": null,
   "metadata": {},
   "outputs": [],
   "source": []
  },
  {
   "cell_type": "markdown",
   "metadata": {},
   "source": [
    "### 2_Cipher_AES"
   ]
  },
  {
   "cell_type": "code",
   "execution_count": null,
   "metadata": {},
   "outputs": [],
   "source": [
    "def cipher_system_aes(m,k):\n",
    "    return cipher"
   ]
  },
  {
   "cell_type": "code",
   "execution_count": null,
   "metadata": {},
   "outputs": [],
   "source": []
  },
  {
   "cell_type": "markdown",
   "metadata": {},
   "source": [
    "### 3_Decipher_AES"
   ]
  },
  {
   "cell_type": "code",
   "execution_count": null,
   "metadata": {},
   "outputs": [],
   "source": [
    "def decipher_system_aes(cipher,k):\n",
    "    return decipher"
   ]
  },
  {
   "cell_type": "code",
   "execution_count": null,
   "metadata": {},
   "outputs": [],
   "source": []
  },
  {
   "cell_type": "code",
   "execution_count": null,
   "metadata": {},
   "outputs": [],
   "source": []
  },
  {
   "cell_type": "markdown",
   "metadata": {},
   "source": [
    "# Partie 3: Modes d’opérations et DES, AES"
   ]
  },
  {
   "cell_type": "code",
   "execution_count": null,
   "metadata": {},
   "outputs": [],
   "source": []
  }
 ],
 "metadata": {
  "kernelspec": {
   "display_name": "Python 3",
   "language": "python",
   "name": "python3"
  },
  "language_info": {
   "codemirror_mode": {
    "name": "ipython",
    "version": 3
   },
   "file_extension": ".py",
   "mimetype": "text/x-python",
   "name": "python",
   "nbconvert_exporter": "python",
   "pygments_lexer": "ipython3",
   "version": "3.7.4"
  }
 },
 "nbformat": 4,
 "nbformat_minor": 2
}
